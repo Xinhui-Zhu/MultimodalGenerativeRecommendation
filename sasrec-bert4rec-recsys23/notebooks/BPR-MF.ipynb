{
 "cells": [
  {
   "cell_type": "code",
   "execution_count": 1,
   "id": "1bf6132d-2755-4c9e-945a-6c67418bdd0f",
   "metadata": {
    "tags": []
   },
   "outputs": [],
   "source": [
    "import os\n",
    "os.environ[\"CUDA_DEVICE_ORDER\"] = \"PCI_BUS_ID\"\n",
    "os.environ[\"CUDA_VISIBLE_DEVICES\"] = \"0\"\n",
    "import sys\n",
    "sys.path.append('../')"
   ]
  },
  {
   "cell_type": "code",
   "execution_count": 2,
   "id": "96da0f91-c34a-48dc-9329-32076f13cf27",
   "metadata": {
    "tags": []
   },
   "outputs": [],
   "source": [
    "import pandas as pd\n",
    "import numpy as np\n",
    "import time\n",
    "from implicit.bpr import BayesianPersonalizedRanking\n",
    "from scipy.sparse import coo_matrix\n",
    "\n",
    "from src.preprocess import add_time_idx"
   ]
  },
  {
   "cell_type": "markdown",
   "id": "ce7d13ea-1a79-460d-a558-421745f38c3e",
   "metadata": {},
   "source": [
    "## Load Data"
   ]
  },
  {
   "cell_type": "code",
   "execution_count": 35,
   "id": "6b6aefa6-8c82-44f9-b75e-2038fa676bf6",
   "metadata": {
    "tags": []
   },
   "outputs": [],
   "source": [
    " DATA_PATH = '../data/ml-1m.txt'\n",
    "# DATA_PATH = '../data/beauty.txt'\n",
    "# DATA_PATH = '../data/steam.txt'\n",
    "# DATA_PATH = '../data/ml-20m.txt'\n",
    "# DATA_PATH = '../data/yelp.txt'"
   ]
  },
  {
   "cell_type": "code",
   "execution_count": 36,
   "id": "b4fe6456-63ac-4caa-9607-65ed9b108554",
   "metadata": {
    "tags": []
   },
   "outputs": [
    {
     "name": "stdout",
     "output_type": "stream",
     "text": [
      "(999611, 4)\n"
     ]
    },
    {
     "data": {
      "text/html": [
       "<div>\n",
       "<style scoped>\n",
       "    .dataframe tbody tr th:only-of-type {\n",
       "        vertical-align: middle;\n",
       "    }\n",
       "\n",
       "    .dataframe tbody tr th {\n",
       "        vertical-align: top;\n",
       "    }\n",
       "\n",
       "    .dataframe thead th {\n",
       "        text-align: right;\n",
       "    }\n",
       "</style>\n",
       "<table border=\"1\" class=\"dataframe\">\n",
       "  <thead>\n",
       "    <tr style=\"text-align: right;\">\n",
       "      <th></th>\n",
       "      <th>user_id</th>\n",
       "      <th>item_id</th>\n",
       "      <th>time_idx</th>\n",
       "      <th>time_idx_reversed</th>\n",
       "    </tr>\n",
       "  </thead>\n",
       "  <tbody>\n",
       "    <tr>\n",
       "      <th>0</th>\n",
       "      <td>1</td>\n",
       "      <td>1</td>\n",
       "      <td>0</td>\n",
       "      <td>78</td>\n",
       "    </tr>\n",
       "    <tr>\n",
       "      <th>1</th>\n",
       "      <td>1</td>\n",
       "      <td>2</td>\n",
       "      <td>1</td>\n",
       "      <td>77</td>\n",
       "    </tr>\n",
       "    <tr>\n",
       "      <th>2</th>\n",
       "      <td>1</td>\n",
       "      <td>3</td>\n",
       "      <td>2</td>\n",
       "      <td>76</td>\n",
       "    </tr>\n",
       "    <tr>\n",
       "      <th>3</th>\n",
       "      <td>1</td>\n",
       "      <td>4</td>\n",
       "      <td>3</td>\n",
       "      <td>75</td>\n",
       "    </tr>\n",
       "    <tr>\n",
       "      <th>4</th>\n",
       "      <td>1</td>\n",
       "      <td>5</td>\n",
       "      <td>4</td>\n",
       "      <td>74</td>\n",
       "    </tr>\n",
       "  </tbody>\n",
       "</table>\n",
       "</div>"
      ],
      "text/plain": [
       "   user_id  item_id  time_idx  time_idx_reversed\n",
       "0        1        1         0                 78\n",
       "1        1        2         1                 77\n",
       "2        1        3         2                 76\n",
       "3        1        4         3                 75\n",
       "4        1        5         4                 74"
      ]
     },
     "execution_count": 36,
     "metadata": {},
     "output_type": "execute_result"
    }
   ],
   "source": [
    "data = pd.read_csv(DATA_PATH, sep=' ', header=None, names=['user_id', 'item_id'])\n",
    "data = add_time_idx(data, sort=False)\n",
    "print(data.shape)\n",
    "data.head()"
   ]
  },
  {
   "cell_type": "code",
   "execution_count": 37,
   "id": "bc3eb357-de61-432f-ab87-603027762769",
   "metadata": {
    "tags": []
   },
   "outputs": [
    {
     "data": {
      "text/plain": [
       "(6040, 3416)"
      ]
     },
     "execution_count": 37,
     "metadata": {},
     "output_type": "execute_result"
    }
   ],
   "source": [
    "data.user_id.nunique(), data.item_id.nunique()"
   ]
  },
  {
   "cell_type": "code",
   "execution_count": 38,
   "id": "3ba08a35-1f8a-4548-b321-632dd0d7eef1",
   "metadata": {
    "tags": []
   },
   "outputs": [
    {
     "data": {
      "text/plain": [
       "count    6040.000000\n",
       "mean      165.498510\n",
       "std       192.543909\n",
       "min        18.000000\n",
       "25%        44.000000\n",
       "50%        96.000000\n",
       "75%       207.250000\n",
       "max      2277.000000\n",
       "Name: user_id, dtype: float64"
      ]
     },
     "execution_count": 38,
     "metadata": {},
     "output_type": "execute_result"
    }
   ],
   "source": [
    "data.user_id.value_counts().describe()"
   ]
  },
  {
   "cell_type": "code",
   "execution_count": 39,
   "id": "1fceb012-fc4a-4463-83df-fe9922c7befe",
   "metadata": {
    "tags": []
   },
   "outputs": [
    {
     "data": {
      "text/plain": [
       "count    3416.000000\n",
       "mean      292.626171\n",
       "std       391.674786\n",
       "min         5.000000\n",
       "25%        47.000000\n",
       "50%       146.000000\n",
       "75%       374.250000\n",
       "max      3428.000000\n",
       "Name: item_id, dtype: float64"
      ]
     },
     "execution_count": 39,
     "metadata": {},
     "output_type": "execute_result"
    }
   ],
   "source": [
    "data.item_id.value_counts().describe()"
   ]
  },
  {
   "cell_type": "code",
   "execution_count": 40,
   "id": "6b293494-60af-4922-8528-abe66d43d30b",
   "metadata": {
    "tags": []
   },
   "outputs": [],
   "source": [
    "train = data[data.time_idx_reversed >= 2]\n",
    "validation = data[data.time_idx_reversed == 1]\n",
    "validation_full = data[data.time_idx_reversed >= 1]\n",
    "test = data[data.time_idx_reversed == 0]"
   ]
  },
  {
   "cell_type": "markdown",
   "id": "8be5ceab-91f7-456e-b94f-79280936b0ec",
   "metadata": {},
   "source": [
    "## Dataloaders"
   ]
  },
  {
   "cell_type": "code",
   "execution_count": 41,
   "id": "158c4910-32cf-465b-b183-576a8d819f13",
   "metadata": {},
   "outputs": [],
   "source": [
    "test_matrix= coo_matrix((np.ones(len(validation_full)), (validation_full.user_id-1, validation_full.item_id-1)), (data.user_id.max(), data.item_id.max()))"
   ]
  },
  {
   "cell_type": "code",
   "execution_count": 42,
   "id": "8ec0ebdc-98c4-4852-8ea1-927202c8b6ce",
   "metadata": {},
   "outputs": [],
   "source": [
    "from recommenders.evaluation.python_evaluation import map_at_k, ndcg_at_k, recall_at_k\n",
    "\n",
    "\n",
    "def compute_metrics(ground_truth, preds, k=10):\n",
    "\n",
    "    if not hasattr(ground_truth, 'rating'):\n",
    "        ground_truth = ground_truth.assign(rating=1)\n",
    "\n",
    "    # when we have 1 true positive, HitRate == Recall and MRR == MAP\n",
    "    metrics = {\n",
    "        'ndcg': ndcg_at_k(ground_truth, preds, col_user='user_id', col_item='item_id',\n",
    "                          col_prediction='prediction', col_rating='rating', k=k),\n",
    "        'hit_rate': recall_at_k(ground_truth, preds, col_user='user_id', col_item='item_id',\n",
    "                                col_prediction='prediction', col_rating='rating', k=k),\n",
    "        'mrr': map_at_k(ground_truth, preds, col_user='user_id', col_item='item_id',\n",
    "                        col_prediction='prediction', col_rating='rating', k=k)\n",
    "    }\n",
    "\n",
    "    return metrics"
   ]
  },
  {
   "cell_type": "code",
   "execution_count": 44,
   "id": "f283aaa1-aecd-41df-b5a3-660955eab9c0",
   "metadata": {},
   "outputs": [
    {
     "name": "stderr",
     "output_type": "stream",
     "text": [
      "/home/alexxl/.pyenv/versions/anaconda3-2023.03/envs/rapids-23.02/lib/python3.8/site-packages/implicit/utils.py:138: ParameterWarning: Method expects CSR input, and was passed coo_matrix instead. Converting to CSR took 0.05518794059753418 seconds\n",
      "  warnings.warn(\n"
     ]
    },
    {
     "data": {
      "application/vnd.jupyter.widget-view+json": {
       "model_id": "5cd966887309467ab32ec9ca757a306d",
       "version_major": 2,
       "version_minor": 0
      },
      "text/plain": [
       "  0%|          | 0/100 [00:00<?, ?it/s]"
      ]
     },
     "metadata": {},
     "output_type": "display_data"
    },
    {
     "name": "stderr",
     "output_type": "stream",
     "text": [
      "/home/alexxl/.pyenv/versions/anaconda3-2023.03/envs/rapids-23.02/lib/python3.8/site-packages/implicit/utils.py:138: ParameterWarning: Method expects CSR input, and was passed coo_matrix instead. Converting to CSR took 0.05493974685668945 seconds\n",
      "  warnings.warn(\n"
     ]
    },
    {
     "data": {
      "application/vnd.jupyter.widget-view+json": {
       "model_id": "740303bff88345d992cd3eb8457313dd",
       "version_major": 2,
       "version_minor": 0
      },
      "text/plain": [
       "  0%|          | 0/100 [00:00<?, ?it/s]"
      ]
     },
     "metadata": {},
     "output_type": "display_data"
    },
    {
     "name": "stderr",
     "output_type": "stream",
     "text": [
      "/home/alexxl/.pyenv/versions/anaconda3-2023.03/envs/rapids-23.02/lib/python3.8/site-packages/implicit/utils.py:138: ParameterWarning: Method expects CSR input, and was passed coo_matrix instead. Converting to CSR took 0.05517268180847168 seconds\n",
      "  warnings.warn(\n"
     ]
    },
    {
     "data": {
      "application/vnd.jupyter.widget-view+json": {
       "model_id": "e30538c9180045bebca0743c32841029",
       "version_major": 2,
       "version_minor": 0
      },
      "text/plain": [
       "  0%|          | 0/100 [00:00<?, ?it/s]"
      ]
     },
     "metadata": {},
     "output_type": "display_data"
    },
    {
     "name": "stderr",
     "output_type": "stream",
     "text": [
      "/home/alexxl/.pyenv/versions/anaconda3-2023.03/envs/rapids-23.02/lib/python3.8/site-packages/implicit/utils.py:138: ParameterWarning: Method expects CSR input, and was passed coo_matrix instead. Converting to CSR took 0.05518627166748047 seconds\n",
      "  warnings.warn(\n"
     ]
    },
    {
     "data": {
      "application/vnd.jupyter.widget-view+json": {
       "model_id": "2480b77291a244d2909353835756a8ef",
       "version_major": 2,
       "version_minor": 0
      },
      "text/plain": [
       "  0%|          | 0/100 [00:00<?, ?it/s]"
      ]
     },
     "metadata": {},
     "output_type": "display_data"
    },
    {
     "name": "stderr",
     "output_type": "stream",
     "text": [
      "/home/alexxl/.pyenv/versions/anaconda3-2023.03/envs/rapids-23.02/lib/python3.8/site-packages/implicit/utils.py:138: ParameterWarning: Method expects CSR input, and was passed coo_matrix instead. Converting to CSR took 0.05595970153808594 seconds\n",
      "  warnings.warn(\n"
     ]
    },
    {
     "data": {
      "application/vnd.jupyter.widget-view+json": {
       "model_id": "8037873725b645b48950ecb17db51370",
       "version_major": 2,
       "version_minor": 0
      },
      "text/plain": [
       "  0%|          | 0/100 [00:00<?, ?it/s]"
      ]
     },
     "metadata": {},
     "output_type": "display_data"
    },
    {
     "name": "stderr",
     "output_type": "stream",
     "text": [
      "/home/alexxl/.pyenv/versions/anaconda3-2023.03/envs/rapids-23.02/lib/python3.8/site-packages/implicit/utils.py:138: ParameterWarning: Method expects CSR input, and was passed coo_matrix instead. Converting to CSR took 0.055466651916503906 seconds\n",
      "  warnings.warn(\n"
     ]
    },
    {
     "data": {
      "application/vnd.jupyter.widget-view+json": {
       "model_id": "aa052382eb504e2485bda92aa06855f8",
       "version_major": 2,
       "version_minor": 0
      },
      "text/plain": [
       "  0%|          | 0/100 [00:00<?, ?it/s]"
      ]
     },
     "metadata": {},
     "output_type": "display_data"
    },
    {
     "name": "stderr",
     "output_type": "stream",
     "text": [
      "/home/alexxl/.pyenv/versions/anaconda3-2023.03/envs/rapids-23.02/lib/python3.8/site-packages/implicit/utils.py:138: ParameterWarning: Method expects CSR input, and was passed coo_matrix instead. Converting to CSR took 0.05492830276489258 seconds\n",
      "  warnings.warn(\n"
     ]
    },
    {
     "data": {
      "application/vnd.jupyter.widget-view+json": {
       "model_id": "383133665a744c6f933107cbc2f48296",
       "version_major": 2,
       "version_minor": 0
      },
      "text/plain": [
       "  0%|          | 0/100 [00:00<?, ?it/s]"
      ]
     },
     "metadata": {},
     "output_type": "display_data"
    },
    {
     "name": "stderr",
     "output_type": "stream",
     "text": [
      "/home/alexxl/.pyenv/versions/anaconda3-2023.03/envs/rapids-23.02/lib/python3.8/site-packages/implicit/utils.py:138: ParameterWarning: Method expects CSR input, and was passed coo_matrix instead. Converting to CSR took 0.05475211143493652 seconds\n",
      "  warnings.warn(\n"
     ]
    },
    {
     "data": {
      "application/vnd.jupyter.widget-view+json": {
       "model_id": "494290df9bb54668bd2f4a78a1897262",
       "version_major": 2,
       "version_minor": 0
      },
      "text/plain": [
       "  0%|          | 0/100 [00:00<?, ?it/s]"
      ]
     },
     "metadata": {},
     "output_type": "display_data"
    },
    {
     "name": "stderr",
     "output_type": "stream",
     "text": [
      "/home/alexxl/.pyenv/versions/anaconda3-2023.03/envs/rapids-23.02/lib/python3.8/site-packages/implicit/utils.py:138: ParameterWarning: Method expects CSR input, and was passed coo_matrix instead. Converting to CSR took 0.05513167381286621 seconds\n",
      "  warnings.warn(\n"
     ]
    },
    {
     "data": {
      "application/vnd.jupyter.widget-view+json": {
       "model_id": "94289e1b645741bf94e2d36dc58ca9e6",
       "version_major": 2,
       "version_minor": 0
      },
      "text/plain": [
       "  0%|          | 0/100 [00:00<?, ?it/s]"
      ]
     },
     "metadata": {},
     "output_type": "display_data"
    },
    {
     "name": "stderr",
     "output_type": "stream",
     "text": [
      "/home/alexxl/.pyenv/versions/anaconda3-2023.03/envs/rapids-23.02/lib/python3.8/site-packages/implicit/utils.py:138: ParameterWarning: Method expects CSR input, and was passed coo_matrix instead. Converting to CSR took 0.05514192581176758 seconds\n",
      "  warnings.warn(\n"
     ]
    },
    {
     "data": {
      "application/vnd.jupyter.widget-view+json": {
       "model_id": "a79463b0eb83494286e3fb8a20eab234",
       "version_major": 2,
       "version_minor": 0
      },
      "text/plain": [
       "  0%|          | 0/100 [00:00<?, ?it/s]"
      ]
     },
     "metadata": {},
     "output_type": "display_data"
    }
   ],
   "source": [
    "\n",
    "time_list=[]\n",
    "hr10 =[]\n",
    "hr100=[]\n",
    "ndcg10 = []\n",
    "ndcg100 = []\n",
    "with open(\"../results/bpr_ml1m.json\",\"w\") as f:\n",
    "    for i in range(10):\n",
    "        seed = np.random.randint(1000)\n",
    "        bpr = BayesianPersonalizedRanking(factors=128,use_gpu=True,learning_rate=0.05,regularization=0.01,random_state=seed)\n",
    "\n",
    "        start_time = time.time()\n",
    "        bpr.fit(test_matrix)\n",
    "        time_list.append(time.time() - start_time)\n",
    "\n",
    "        result = bpr.recommend(np.arange(data.user_id.max()),\n",
    "                  test_matrix.tocsr(),\n",
    "                  100,\n",
    "                  True,\n",
    "                  recalculate_user= False)\n",
    "        result_df =pd.DataFrame(columns=[\"user_id\",\"item_id\",\"prediction\"])\n",
    "        result_df[\"user_id\"]=np.repeat(np.arange(1,data.user_id.max()+1), 100)\n",
    "        result_df[\"item_id\"]=result[0].ravel()+1\n",
    "        result_df[\"prediction\"]=result[1].ravel()\n",
    "        metrics = compute_metrics(test, result_df, k=10)\n",
    "        hr10.append(metrics[\"hit_rate\"])\n",
    "        ndcg10.append(metrics[\"ndcg\"])\n",
    "        \n",
    "        metrics = compute_metrics(test, result_df, k=100)\n",
    "        hr100.append(metrics[\"hit_rate\"])\n",
    "        ndcg100.append(metrics[\"ndcg\"])\n",
    "        \n",
    "    f.write(f\"\"\"{{\"time\": {np.mean(time_list)},\n",
    "\"hr10\": {np.mean(hr10)},\n",
    "\"hr100\": {np.mean(hr100)},\n",
    "\"ndcg10\": {np.mean(ndcg10)},\n",
    "\"ndcg100\": {np.mean(ndcg100)}}}\\n\"\"\")\n",
    "    "
   ]
  }
 ],
 "metadata": {
  "kernelspec": {
   "display_name": "SeqRec 3.8 conda",
   "language": "python",
   "name": "seqrec_conda"
  },
  "language_info": {
   "codemirror_mode": {
    "name": "ipython",
    "version": 3
   },
   "file_extension": ".py",
   "mimetype": "text/x-python",
   "name": "python",
   "nbconvert_exporter": "python",
   "pygments_lexer": "ipython3",
   "version": "3.8.16"
  }
 },
 "nbformat": 4,
 "nbformat_minor": 5
}
